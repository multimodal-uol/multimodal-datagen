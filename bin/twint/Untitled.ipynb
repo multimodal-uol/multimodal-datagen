{
 "cells": [
  {
   "cell_type": "code",
   "execution_count": null,
   "metadata": {},
   "outputs": [],
   "source": [
    "x = \"https://video.twimg.com/amplify_video/1382036861380485120/vid/1280x720/NnW_-0zy3VQiarh6.mp4?tag=14\"\n",
    "array = x.split(\"/\")\n",
    "print(array[4])"
   ]
  },
  {
   "cell_type": "code",
   "execution_count": null,
   "metadata": {},
   "outputs": [],
   "source": []
  }
 ],
 "metadata": {
  "kernelspec": {
   "display_name": "Python 3",
   "language": "python",
   "name": "python3"
  }
 },
 "nbformat": 4,
 "nbformat_minor": 4
}
