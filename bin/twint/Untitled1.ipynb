{
 "cells": [
  {
   "cell_type": "code",
   "execution_count": null,
   "metadata": {},
   "outputs": [],
   "source": [
    "from . import main\n",
    "import os\n",
    "\n",
    "os.system('/opt/anaconda3/bin/python3.7 /opt/splunk/etc/apps/multimodal-datagen/bin/twint/main.py ' \"2020-10-25\" \" 2020-10-26\"  \" antractica\")\n"
   ]
  },
  {
   "cell_type": "code",
   "execution_count": null,
   "metadata": {},
   "outputs": [],
   "source": []
  }
 ],
 "metadata": {
  "kernelspec": {
   "display_name": "Python 3",
   "language": "python",
   "name": "python3"
  }
 },
 "nbformat": 4,
 "nbformat_minor": 4
}
