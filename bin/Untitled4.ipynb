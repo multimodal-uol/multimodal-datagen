{
 "cells": [
  {
   "cell_type": "code",
   "execution_count": 39,
   "metadata": {},
   "outputs": [
    {
     "name": "stdout",
     "output_type": "stream",
     "text": [
      "Started Reading JSON file which contains multiple JSON document\n",
      "[{\"tweet_id\": 1245496886368370689, \"conversation_id\": \"1245470994606637056\", \"timestamp\": \"2020-04-01 23:42:52 UTC\", \"datestamp\": \"2020-04-01\", \"time\": \"23:42:52\", \"timezone\": \"+0000\", \"user_id\": 202758334, \"screen_name\": \"uliefay\", \"name\": \"Juliefay\", \"place\": \"\", \"text\": \"@JonnyHarrisonNZ Me? No, I\\u2019m in London. I did swerve a Post Office job in Antarctica though, which I\\u2019m very much regretting now\", \"language\": \"en\", \"mentions\": [], \"tweet_url\": [], \"img_urls\": [], \"replies\": 1, \"retweets\": 0, \"likes\": 0, \"hashtags\": [], \"cashtags\": [], \"link\": \"https://twitter.com/Uliefay/status/1245496886368370689\", \"is_replied\": false, \"quote_url\": \"\", \"video\": 0, \"thumbnail1\": \"\", \"near\": \"london\", \"geo\": \"\", \"source\": \"\", \"user_rt_id\": \"\", \"user_rt\": \"\", \"retweet_id\": \"\", \"reply_to\": [{\"screen_name\": \"JonnyHarrisonNZ\", \"name\": \"Jonny Harrison\", \"id\": \"767314626547556352\"}], \"retweet_date\": \"\", \"translate\": \"\", \"trans_src\": \"\", \"trans_dest\": \"\", \"xxxxxxxxxxxx\": \"var\"}, {\"tweet_id\": 1245484403134025731, \"conversation_id\": \"1245470994606637056\", \"timestamp\": \"2020-04-01 22:53:16 UTC\", \"datestamp\": \"2020-04-01\", \"time\": \"22:53:16\", \"timezone\": \"+0000\", \"user_id\": 202758334, \"screen_name\": \"uliefay\", \"name\": \"Juliefay\", \"place\": \"\", \"text\": \"@JonnyHarrisonNZ Where are you dude? Back in NZ or Antarctica for another stint?\", \"language\": \"en\", \"mentions\": [], \"tweet_url\": [], \"img_urls\": [], \"replies\": 1, \"retweets\": 0, \"likes\": 0, \"hashtags\": [], \"cashtags\": [], \"link\": \"https://twitter.com/Uliefay/status/1245484403134025731\", \"is_replied\": false, \"quote_url\": \"\", \"video\": 0, \"thumbnail1\": \"\", \"near\": \"london\", \"geo\": \"\", \"source\": \"\", \"user_rt_id\": \"\", \"user_rt\": \"\", \"retweet_id\": \"\", \"reply_to\": [{\"screen_name\": \"JonnyHarrisonNZ\", \"name\": \"Jonny Harrison\", \"id\": \"767314626547556352\"}], \"retweet_date\": \"\", \"translate\": \"\", \"trans_src\": \"\", \"trans_dest\": \"\", \"xxxxxxxxxxxx\": \"var\"}]\n"
     ]
    }
   ],
   "source": [
    "import json\n",
    "\n",
    "studentsList = []\n",
    "print(\"Started Reading JSON file which contains multiple JSON document\")\n",
    "with open('/tmp/antractica13825.json') as f:\n",
    "    for jsonObj in f:\n",
    "        studentDict = json.loads(jsonObj)\n",
    "        studentDict['xxxxxxxxxxxx'] = 'var'\n",
    "        studentsList.append(studentDict)\n",
    "\n",
    "jsonData = json.dumps(studentsList)\n",
    "print(jsonData)\n",
    "\n"
   ]
  },
  {
   "cell_type": "code",
   "execution_count": null,
   "metadata": {},
   "outputs": [],
   "source": []
  }
 ],
 "metadata": {
  "kernelspec": {
   "display_name": "Python 3",
   "language": "python",
   "name": "python3"
  },
  "language_info": {
   "codemirror_mode": {
    "name": "ipython",
    "version": 3
   },
   "file_extension": ".py",
   "mimetype": "text/x-python",
   "name": "python",
   "nbconvert_exporter": "python",
   "pygments_lexer": "ipython3",
   "version": "3.7.6"
  }
 },
 "nbformat": 4,
 "nbformat_minor": 4
}
